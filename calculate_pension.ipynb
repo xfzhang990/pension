{
 "cells": [
  {
   "cell_type": "code",
   "execution_count": null,
   "id": "64f45bbb-ca8e-4d9e-995e-e7f8489e68fb",
   "metadata": {},
   "outputs": [],
   "source": [
    "## calculate how many years I can have monthly pension X\n",
    "def pension_year(current_saving,monthly_saving,return_rate,year,salary):\n",
    "    y=current_saving\n",
    "    for i in range(1,31):\n",
    "        y=y*(1+return_rate)+ monthly_saving*12  ## calculate total saving after 30 years\n",
    "\n",
    "    for i in range(1,101):     \n",
    "        y=y-salary*12\n",
    "        if y>0:\n",
    "            y*=1 + return_rate\n",
    "        else: \n",
    "            break\n",
    "    return print(salary,i)"
   ]
  }
 ],
 "metadata": {
  "kernelspec": {
   "display_name": "Python 3 (ipykernel)",
   "language": "python",
   "name": "python3"
  },
  "language_info": {
   "codemirror_mode": {
    "name": "ipython",
    "version": 3
   },
   "file_extension": ".py",
   "mimetype": "text/x-python",
   "name": "python",
   "nbconvert_exporter": "python",
   "pygments_lexer": "ipython3",
   "version": "3.8.17"
  }
 },
 "nbformat": 4,
 "nbformat_minor": 5
}
